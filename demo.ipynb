{
 "cells": [
  {
   "cell_type": "code",
   "execution_count": 1,
   "metadata": {},
   "outputs": [],
   "source": [
    "import pandas as pd"
   ]
  },
  {
   "cell_type": "code",
   "execution_count": 2,
   "metadata": {},
   "outputs": [
    {
     "name": "stdout",
     "output_type": "stream",
     "text": [
      "['Índice', 'Venta', 'Renta']\n"
     ]
    }
   ],
   "source": [
    "excel_file_path = 'BD_SECTOR_INMOBILIARIO_01_2024.xlsx'\n",
    "excel_data = pd.ExcelFile(excel_file_path)\n",
    "sheet_names = excel_data.sheet_names\n",
    "print(sheet_names)"
   ]
  },
  {
   "cell_type": "code",
   "execution_count": 4,
   "metadata": {},
   "outputs": [
    {
     "name": "stdout",
     "output_type": "stream",
     "text": [
      "Sheets converted to CSV:\n",
      "- Venta: venta_data.csv\n",
      "- Renta: renta_data.csv\n"
     ]
    }
   ],
   "source": [
    "# Specify output CSV paths\n",
    "venta_csv_path = 'venta_data.csv'\n",
    "renta_csv_path = 'renta_data.csv'\n",
    "\n",
    "# Convert 'Venta' sheet to CSV\n",
    "venta_data = pd.read_excel(excel_file_path, sheet_name='Venta')\n",
    "venta_data.to_csv(venta_csv_path, index=False)\n",
    "\n",
    "# Convert 'Renta' sheet to CSV\n",
    "renta_data = pd.read_excel(excel_file_path, sheet_name='Renta')\n",
    "renta_data.to_csv(renta_csv_path, index=False)\n",
    "\n",
    "print(f\"Sheets converted to CSV:\\n- Venta: {venta_csv_path}\\n- Renta: {renta_csv_path}\")"
   ]
  },
  {
   "cell_type": "code",
   "execution_count": null,
   "metadata": {},
   "outputs": [],
   "source": []
  }
 ],
 "metadata": {
  "kernelspec": {
   "display_name": "new-env",
   "language": "python",
   "name": "python3"
  },
  "language_info": {
   "codemirror_mode": {
    "name": "ipython",
    "version": 3
   },
   "file_extension": ".py",
   "mimetype": "text/x-python",
   "name": "python",
   "nbconvert_exporter": "python",
   "pygments_lexer": "ipython3",
   "version": "3.10.14"
  }
 },
 "nbformat": 4,
 "nbformat_minor": 2
}
